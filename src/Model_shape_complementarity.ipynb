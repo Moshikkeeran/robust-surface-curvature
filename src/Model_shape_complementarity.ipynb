{
 "cells": [
  {
   "cell_type": "markdown",
   "metadata": {},
   "source": [
    "# This Jupyter Notebook calculates the shape complimentarity using the surface curvature"
   ]
  },
  {
   "cell_type": "code",
   "execution_count": 30,
   "metadata": {},
   "outputs": [],
   "source": [
    "import sys\n",
    "import os\n",
    "\n",
    "\n",
    "\n"
   ]
  },
  {
   "cell_type": "code",
   "execution_count": 2,
   "metadata": {},
   "outputs": [],
   "source": [
    "import os\n",
    "import matplotlib.pyplot as plt\n",
    "\n",
    "from pathlib import Path\n",
    "import regex\n",
    "import glob\n",
    "import os\n",
    "import itertools\n",
    "from collections import namedtuple\n"
   ]
  },
  {
   "cell_type": "code",
   "execution_count": 3,
   "metadata": {},
   "outputs": [],
   "source": [
    "\n",
    "DIR = Path(\"/mnt/c/Users/Lenovo/Documents/Projects/ProteinCurvature/robust-surface-curvature/\")\n",
    "#the above is the directory of the main folder.\n",
    "os.chdir(\"./..\")"
   ]
  },
  {
   "cell_type": "code",
   "execution_count": 4,
   "metadata": {},
   "outputs": [
    {
     "data": {
      "text/plain": [
       "PosixPath('/mnt/c/Users/Lenovo/Documents/Projects/ProteinCurvature/robust-surface-curvature')"
      ]
     },
     "execution_count": 4,
     "metadata": {},
     "output_type": "execute_result"
    }
   ],
   "source": [
    "DIR"
   ]
  },
  {
   "cell_type": "code",
   "execution_count": 5,
   "metadata": {},
   "outputs": [],
   "source": [
    "import pandas as pd\n",
    "from sklearn.preprocessing import StandardScaler\n",
    "import numpy as np\n",
    "from math import sqrt\n",
    "from sys import stderr\n",
    "from numpy import linalg\n",
    "import networkx as nx\n",
    "from scipy.spatial import Delaunay, ConvexHull\n",
    "import re\n",
    "import itertools\n",
    "import numpy as np\n",
    "import matplotlib.pyplot as plt\n",
    "from mpl_toolkits.mplot3d import Axes3D\n",
    "from scipy.spatial import ConvexHull\n",
    "#key functions\n",
    "from utils.Hypersphere import fit_hypersphere\n",
    "from utils.read_msms import read_msms\n",
    "from Bio.PDB.ResidueDepth import ResidueDepth\n",
    "from Bio.PDB.PDBParser import PDBParser"
   ]
  },
  {
   "cell_type": "code",
   "execution_count": 6,
   "metadata": {},
   "outputs": [],
   "source": [
    "def unit_vector(x):\n",
    "    return x/np.linalg.norm(x)\n",
    "\n",
    "def unit_normal(v1, v2, v3):\n",
    "    v1, v2, v3 = np.array(v1), np.array(v2), np.array(v3)\n",
    "    v31 = v3 - v1\n",
    "    v21 = v2 - v1\n",
    "    cross = np.cross(v31/np.linalg.norm(v31), v21/np.linalg.norm(v21))\n",
    "    return cross/ np.linalg.norm(cross)"
   ]
  },
  {
   "cell_type": "code",
   "execution_count": 1,
   "metadata": {},
   "outputs": [
    {
     "name": "stdout",
     "output_type": "stream",
     "text": [
      "/home/prathith/Documents/protein_curvature_project/robust-surface-curvature/src\n"
     ]
    }
   ],
   "source": []
  },
  {
   "cell_type": "code",
   "execution_count": 7,
   "metadata": {},
   "outputs": [],
   "source": [
    "\n",
    "import collections\n",
    "import regex\n",
    "import pickle\n",
    "import re\n",
    "\n",
    "import numpy as np\n",
    "from scipy.spatial.distance import pdist\n",
    "from scipy.cluster.hierarchy import cophenet\n",
    "from scipy.cluster.hierarchy import dendrogram, linkage\n",
    "from matplotlib import pyplot as plt\n",
    "from matplotlib import rcParams\n",
    "import os\n",
    "import copy\n",
    "\n",
    "from scipy.cluster.hierarchy import fcluster\n",
    "from scipy.cluster.vq import kmeans, vq\n",
    "import scipy.cluster.hierarchy as sch\n",
    "from collections import OrderedDict\n",
    "import subprocess\n",
    "import unittest\n",
    "import glob\n",
    "import matplotlib.pyplot as plt\n"
   ]
  },
  {
   "cell_type": "code",
   "execution_count": 8,
   "metadata": {},
   "outputs": [],
   "source": [
    "# font related cell\n",
    "SMALL_SIZE = 10\n",
    "MEDIUM_SIZE = 13\n",
    "BIGGER_SIZE = 13\n",
    "\n",
    "plt.rc('font', size=SMALL_SIZE)          # controls default text sizes\n",
    "\n",
    "plt.rc('axes', titlesize=SMALL_SIZE)     # fontsize of the axes title\n",
    "plt.rc('axes', labelsize=MEDIUM_SIZE)    # fontsize of the x and y labels\n",
    "plt.rc('xtick', labelsize=SMALL_SIZE)    # fontsize of the tick labels\n",
    "plt.rc('ytick', labelsize=SMALL_SIZE)    # fontsize of the tick labels\n",
    "plt.rc('legend', fontsize=SMALL_SIZE)    # legend fontsize\n",
    "plt.rc('figure', titlesize=BIGGER_SIZE)  # fontsize of the figure title\n",
    "rcParams.update({'figure.autolayout': True})"
   ]
  },
  {
   "cell_type": "code",
   "execution_count": 34,
   "metadata": {},
   "outputs": [
    {
     "name": "stdout",
     "output_type": "stream",
     "text": [
      "1sln__lig_plot.jpeg\n",
      "2hnp.face\n",
      "2hnp__lig_plot.jpeg\n",
      "2hnp.vert\n",
      "output_protein-ligand\n",
      "output_protein-ligand-10gs\n",
      "output_protein-ligand-new\n",
      "output_protein_protein\n",
      "Protein-inhibitor\n",
      "Protein_inhibitor\n",
      "Protein-inhibitor-10gs\n",
      "Protein-protein-1cdt\n"
     ]
    }
   ],
   "source": [
    "%%bash\n",
    "cd data\n",
    "ls"
   ]
  },
  {
   "cell_type": "code",
   "execution_count": 35,
   "metadata": {},
   "outputs": [],
   "source": [
    "input_folder_name = 'Protein-protein-1cdt'\n",
    "output_folder_name = 'output_protein_protein'"
   ]
  },
  {
   "cell_type": "code",
   "execution_count": 36,
   "metadata": {},
   "outputs": [
    {
     "name": "stdout",
     "output_type": "stream",
     "text": [
      "it exists\n"
     ]
    }
   ],
   "source": [
    "path = Path(r\"/mnt/c/Users/Lenovo/Documents/Projects/ProteinCurvature/robust-surface-curvature/data\")\n",
    "sub_path = Path(r\"/mnt/c/Users/Lenovo/Documents/Projects/robust-surface-curvature/data/\"+input_folder_name)\n",
    "OUTPUT = output_folder_name\n",
    "try:\n",
    "    os.mkdir(os.path.expanduser(path/OUTPUT))\n",
    "    # this is making the directory of that name\n",
    "except FileExistsError:\n",
    "    print(\"it exists\")\n",
    "# path=r\"/home/abhijit/Downloads/out_cabc.dms\"\n",
    "\n",
    "# for files in glob.glob(sub_path.as_posix()+\"/*.dms\"): #gets files having .dms extension in the said directory\n",
    "#     filename = files\n",
    "#     # regex.search -> searches for the string and gives the first instance of it. \n",
    "#     structure_id = regex.search(\n",
    "#         r\"(?:.+[/\\\\])(.+)(?:\\.dms)\", filename).group(1) \n",
    "#     s1 = structure_id #s1 becomes structure ID\n",
    "#     import re\n",
    "#     import numpy as np\n",
    "#     with open(filename, 'r') as f:\n",
    "#         k = f.read()\n",
    "#     # pattern is created by the compile function in re\n",
    "#     pattern = re.compile(r\"(.{20,})(?:\\bA\\b)\", flags=re.M | re.I)\n",
    "#     pattern2 = re.compile(r\"(.{20,})(?:\\bS\\w+\\b)(.+)\", flags=re.M)\n",
    "    \n",
    "#     l1 = pattern.findall(k) #k which is the filename, we are finding whether the characters that are defined by the pattern are found\n",
    "#     l2 = pattern2.findall(k)\n",
    "#     iterables1 = {}\n",
    "#     iterables_orig = {}\n",
    "#     iterables_normal_area = {}\n",
    "\n",
    "#     for x, y in l2:\n",
    "#         search = regex.search(\n",
    "#             r\"(\\w{,3})\\s*(\\w+)(?:\\*?)\\s*(\\w+)(?:\\*|'?)\\s*(-?\\d+\\.\\d+)\\s*(-?\\d+\\.\\d+)\\s*(-?\\d+\\.\\d+)\", x)\n",
    "#         iterables1[tuple(map(float, [search.group(4), search.group(5), search.group(6)]))] = [\n",
    "#             x, list(map(float, y.split()[:]))]\n",
    "        \n",
    "    \n",
    "\n",
    "#     for x in l1:\n",
    "#         search = regex.search(\n",
    "#             r\"(\\w{,3})\\s*(\\w+)(?:\\*?)\\s*(\\w+)(?:\\*|'?)\\s*(-?\\d+\\.\\d+)\\s*(-?\\d+\\.\\d+)\\s*(-?\\d+\\.\\d+)\", x)\n",
    "#         iterables_orig[tuple(\n",
    "#             map(float, [search.group(4), search.group(5), search.group(6)]))] = [x]\n",
    "#     pattern_new = regex.compile(\n",
    "#         r\"(\\w{3})\\s*(\\w+)\\s*(\\w+)\\s*(-?\\d+\\.\\d+)\\s*(-?\\d+\\.\\d+)\\s*(-?\\d+\\.\\d+)\")\n",
    "#     data = np.array([x for x in iterables1.keys()])\n",
    "#     data = np.array(data, 'float64')\n",
    "#     Z = linkage(data, 'complete')  # ward --> complete\n",
    "#     max_d = 5  # patch\n",
    "#     clusters = fcluster(Z, max_d, criterion='distance')\n",
    "#     curvature = collections.defaultdict(list)\n",
    "#     centroid = np.median(data, axis=0)\n",
    "#     with open(os.path.expanduser(path.as_posix()+'/%s/%s_%s.pdb' % (OUTPUT, s1, 'X')), 'w') as f:\n",
    "#         dist = []\n",
    "#         j = 0\n",
    "#         for i in range(1, max(clusters)+1):\n",
    "#             curv1_p = []\n",
    "#             curv2_p = []\n",
    "#             curv_m = fit_hypersphere(data[clusters == i])\n",
    "#             ci = curv_m[1]\n",
    "#             count = []\n",
    "#             d_centroid = np.linalg.norm(centroid-ci)\n",
    "\n",
    "#             for x in data[clusters == i]:\n",
    "\n",
    "#                 d = np.linalg.norm(ci-x)\n",
    "#                 d_c = np.linalg.norm(centroid-x)\n",
    "#                 if d_c > d_centroid:\n",
    "#                     # if d>curv_m[0]:\n",
    "#                     count.append(1)\n",
    "                    \n",
    "#                     curv1_p.append(x)\n",
    "#                 else:\n",
    "#                     count.append(-1)\n",
    "#                     curv2_p.append(x)\n",
    "\n",
    "#             A = (len(curv1_p)/len(data[clusters == i]))\n",
    "#             B = (len(curv2_p)/len(data[clusters == i]))\n",
    "#             for x in curv1_p:\n",
    "#                 curvature[tuple(x)] = A*100/curv_m[0]**1\n",
    "#             for x in curv2_p:\n",
    "#                 curvature[tuple(x)] = B*-100/curv_m[0]**1  # put - sign\n",
    "\n",
    "#     j = 0\n",
    "#     with open(os.path.expanduser(path.as_posix()+'/%s/%s_%s.pdb' % (OUTPUT, s1, 'X')), 'w') as f:\n",
    "#         for _, x in enumerate(curvature.keys()):\n",
    "\n",
    "#             loc1 = iterables1[tuple(x)]\n",
    "#             loc = loc1[0].split()\n",
    "#             print(\"{:6s}{:5d} {:^4s}{:1s}{:3s} {:1s}{:4d}{:1s}   {:8.3f}{:8.3f}{:8.3f}{:6.2f}{:6.2f}          {:>2s}{:2s}\".format(\"ATOM\", j, \"A\", \" \", loc[0], \"X\",\n",
    "#                                                                                                                                   int(loc[1].rstrip(regex.search(r'(\\d+)(.*)', loc[1]).group(2))), '', x[0], x[1], x[2], loc1[1][0],  curvature[tuple(x)], '', loc[2]), file=f)\n",
    "\n",
    "#             j += 1\n",
    "\n",
    "#     dist = [curvature[x] for x in curvature]\n",
    "#     dist = np.array(dist)\n",
    "#     dots = len(dist)\n",
    "#     plt.figure()\n",
    "#     plt.xlabel(\n",
    "#         \"Curvature($\\kappa$)\\n$\\longleftarrow$ concave | convex $\\longrightarrow$\")\n",
    "#     plt.ylabel(\"number of surface points\")\n",
    "#     plt.title('%s %s:Number of surface points: %d\\nScaling factor: 100*$\\kappa$' %\n",
    "#               (s1.upper(), \"\", len(dist)))\n",
    "#     plt.hist(dist, bins=15, color='gray', alpha=0.8)\n",
    "#     plt.savefig(os.path.expanduser(path.as_posix()+'/%s/%s_%s_%s hist.jpeg' %\n",
    "#                                    (OUTPUT, dots, s1, 'X')), format='jpeg', dpi=300)\n",
    "#     plt.close()"
   ]
  },
  {
   "cell_type": "code",
   "execution_count": 37,
   "metadata": {},
   "outputs": [],
   "source": [
    "id_list = []\n",
    "filename_list = []\n",
    "for files in glob.glob(\"/mnt/c/Users/Lenovo/Documents/Projects/ProteinCurvature/robust-surface-curvature/data/\"+input_folder_name+\"/*.dms\"): #gets files having .dms extension in the said directory\n",
    "    filename = files\n",
    "    filename_list.append(filename)\n",
    "#     print(filename)\n",
    "    # regex.search -> searches for the string and gives the first instance of it. \n",
    "    structure_id = regex.search(\n",
    "        r\"(?:.+[/\\\\])(.+)(?:\\.dms)\", filename).group(1) \n",
    "    s1 = structure_id #s1 becomes structure ID\n",
    "    id_list.append(s1)\n",
    "#     print(s1)\n",
    "    "
   ]
  },
  {
   "cell_type": "code",
   "execution_count": 38,
   "metadata": {},
   "outputs": [
    {
     "data": {
      "text/plain": [
       "['/mnt/c/Users/Lenovo/Documents/Projects/ProteinCurvature/robust-surface-curvature/data/Protein-protein-1cdt/1cdta.dms',\n",
       " '/mnt/c/Users/Lenovo/Documents/Projects/ProteinCurvature/robust-surface-curvature/data/Protein-protein-1cdt/1cdtb.dms']"
      ]
     },
     "execution_count": 38,
     "metadata": {},
     "output_type": "execute_result"
    }
   ],
   "source": [
    "filename_list"
   ]
  },
  {
   "cell_type": "code",
   "execution_count": 39,
   "metadata": {},
   "outputs": [],
   "source": [
    "def write_stuff_prathith(filename,s1):\n",
    "    import re\n",
    "    import numpy as np\n",
    "    with open(filename, 'r') as f:\n",
    "        k = f.read()\n",
    "    # pattern is created by the compile function in re\n",
    "    pattern = re.compile(r\"(.{20,})(?:\\bA\\b)\", flags=re.M | re.I)\n",
    "    pattern2 = re.compile(r\"(.{20,})(?:\\bS\\w+\\b)(.+)\", flags=re.M)\n",
    "    \n",
    "    l1 = pattern.findall(k) #k which is the filename, we are finding whether the characters that are defined by the pattern are found\n",
    "    l2 = pattern2.findall(k)\n",
    "    iterables1 = {}\n",
    "    iterables_orig = {}\n",
    "    iterables_normal_area = {}\n",
    "\n",
    "    for x, y in l2:\n",
    "        search = regex.search(\n",
    "            r\"(\\w{,3})\\s*(\\w+)(?:\\*?)\\s*(\\w+)(?:\\*|'?)\\s*(-?\\d+\\.\\d+)\\s*(-?\\d+\\.\\d+)\\s*(-?\\d+\\.\\d+)\", x)\n",
    "        iterables1[tuple(map(float, [search.group(4), search.group(5), search.group(6)]))] = [\n",
    "            x, list(map(float, y.split()[:]))]\n",
    "        \n",
    "    \n",
    "\n",
    "    for x in l1:\n",
    "        search = regex.search(\n",
    "            r\"(\\w{,3})\\s*(\\w+)(?:\\*?)\\s*(\\w+)(?:\\*|'?)\\s*(-?\\d+\\.\\d+)\\s*(-?\\d+\\.\\d+)\\s*(-?\\d+\\.\\d+)\", x)\n",
    "        iterables_orig[tuple(\n",
    "            map(float, [search.group(4), search.group(5), search.group(6)]))] = [x]\n",
    "    pattern_new = regex.compile(\n",
    "        r\"(\\w{3})\\s*(\\w+)\\s*(\\w+)\\s*(-?\\d+\\.\\d+)\\s*(-?\\d+\\.\\d+)\\s*(-?\\d+\\.\\d+)\")\n",
    "    data = np.array([x for x in iterables1.keys()])\n",
    "    data = np.array(data, 'float64')\n",
    "    Z = linkage(data, 'complete')  # ward --> complete\n",
    "    max_d = 5  # patch\n",
    "    clusters = fcluster(Z, max_d, criterion='distance')\n",
    "    curvature = collections.defaultdict(list)\n",
    "    centroid = np.median(data, axis=0)\n",
    "    with open(os.path.expanduser(path.as_posix()+'/%s/%s_%s.pdb' % (OUTPUT, s1, 'X')), 'w') as f:\n",
    "        dist = []\n",
    "        j = 0\n",
    "        for i in range(1, max(clusters)+1):\n",
    "            curv1_p = []\n",
    "            curv2_p = []\n",
    "            curv_m = fit_hypersphere(data[clusters == i])\n",
    "            ci = curv_m[1]\n",
    "            count = []\n",
    "            d_centroid = np.linalg.norm(centroid-ci)\n",
    "\n",
    "            for x in data[clusters == i]:\n",
    "\n",
    "                d = np.linalg.norm(ci-x)\n",
    "                d_c = np.linalg.norm(centroid-x)\n",
    "                if d_c > d_centroid:\n",
    "                    # if d>curv_m[0]:\n",
    "                    count.append(1)\n",
    "                    \n",
    "                    curv1_p.append(x)\n",
    "                else:\n",
    "                    count.append(-1)\n",
    "                    curv2_p.append(x)\n",
    "\n",
    "            A = (len(curv1_p)/len(data[clusters == i]))\n",
    "            B = (len(curv2_p)/len(data[clusters == i]))\n",
    "            for x in curv1_p:\n",
    "                curvature[tuple(x)] = A*100/curv_m[0]**1\n",
    "            for x in curv2_p:\n",
    "                curvature[tuple(x)] = B*-100/curv_m[0]**1  # put - sign\n",
    "\n",
    "    j = 0\n",
    "    with open(os.path.expanduser(path.as_posix()+'/%s/%s_%s.pdb' % (OUTPUT, s1, 'X')), 'w') as f:\n",
    "        for _, x in enumerate(curvature.keys()):\n",
    "\n",
    "            loc1 = iterables1[tuple(x)]\n",
    "            loc = loc1[0].split()\n",
    "            print(\"{:6s}{:5d} {:^4s}{:1s}{:3s} {:1s}{:4d}{:1s}   {:8.3f}{:8.3f}{:8.3f}{:6.2f}{:6.2f}          {:>2s}{:2s}\".format(\"ATOM\", j, \"A\", \" \", loc[0], \"X\",\n",
    "                                                                                                                                  int(loc[1].rstrip(regex.search(r'(\\d+)(.*)', loc[1]).group(2))), '', x[0], x[1], x[2], loc1[1][0],  curvature[tuple(x)], '', loc[2]), file=f)\n",
    "\n",
    "            j += 1\n",
    "\n",
    "    dist = [curvature[x] for x in curvature]\n",
    "    dist = np.array(dist)\n",
    "    dots = len(dist)\n",
    "    plt.figure()\n",
    "    plt.xlabel(\n",
    "        \"Curvature($\\kappa$)\\n$\\longleftarrow$ concave | convex $\\longrightarrow$\")\n",
    "    plt.ylabel(\"number of surface points\")\n",
    "    plt.title('%s %s:Number of surface points: %d\\nScaling factor: 100*$\\kappa$' %\n",
    "              (s1.upper(), \"\", len(dist)))\n",
    "    plt.hist(dist, bins=15, color='gray', alpha=0.8)\n",
    "    plt.savefig(os.path.expanduser(path.as_posix()+'/%s/%s_%s_%s hist.jpeg' %\n",
    "                                   (OUTPUT, dots, s1, 'X')), format='jpeg', dpi=300)\n",
    "    plt.close()"
   ]
  },
  {
   "cell_type": "code",
   "execution_count": 40,
   "metadata": {},
   "outputs": [
    {
     "ename": "MemoryError",
     "evalue": "Unable to allocate 11.1 GiB for an array with shape (1488151290,) and data type float64",
     "output_type": "error",
     "traceback": [
      "\u001b[0;31m---------------------------------------------------------------------------\u001b[0m",
      "\u001b[0;31mMemoryError\u001b[0m                               Traceback (most recent call last)",
      "Input \u001b[0;32mIn [40]\u001b[0m, in \u001b[0;36m<cell line: 1>\u001b[0;34m()\u001b[0m\n\u001b[1;32m      1\u001b[0m \u001b[38;5;28;01mfor\u001b[39;00m i \u001b[38;5;129;01min\u001b[39;00m \u001b[38;5;28mrange\u001b[39m(\u001b[38;5;241m1\u001b[39m):\n\u001b[0;32m----> 2\u001b[0m     \u001b[43mwrite_stuff_prathith\u001b[49m\u001b[43m(\u001b[49m\u001b[43mfilename_list\u001b[49m\u001b[43m[\u001b[49m\u001b[43mi\u001b[49m\u001b[43m]\u001b[49m\u001b[43m,\u001b[49m\u001b[43mid_list\u001b[49m\u001b[43m[\u001b[49m\u001b[43mi\u001b[49m\u001b[43m]\u001b[49m\u001b[43m)\u001b[49m\n",
      "Input \u001b[0;32mIn [39]\u001b[0m, in \u001b[0;36mwrite_stuff_prathith\u001b[0;34m(filename, s1)\u001b[0m\n\u001b[1;32m     31\u001b[0m data \u001b[38;5;241m=\u001b[39m np\u001b[38;5;241m.\u001b[39marray([x \u001b[38;5;28;01mfor\u001b[39;00m x \u001b[38;5;129;01min\u001b[39;00m iterables1\u001b[38;5;241m.\u001b[39mkeys()])\n\u001b[1;32m     32\u001b[0m data \u001b[38;5;241m=\u001b[39m np\u001b[38;5;241m.\u001b[39marray(data, \u001b[38;5;124m'\u001b[39m\u001b[38;5;124mfloat64\u001b[39m\u001b[38;5;124m'\u001b[39m)\n\u001b[0;32m---> 33\u001b[0m Z \u001b[38;5;241m=\u001b[39m \u001b[43mlinkage\u001b[49m\u001b[43m(\u001b[49m\u001b[43mdata\u001b[49m\u001b[43m,\u001b[49m\u001b[43m \u001b[49m\u001b[38;5;124;43m'\u001b[39;49m\u001b[38;5;124;43mcomplete\u001b[39;49m\u001b[38;5;124;43m'\u001b[39;49m\u001b[43m)\u001b[49m  \u001b[38;5;66;03m# ward --> complete\u001b[39;00m\n\u001b[1;32m     34\u001b[0m max_d \u001b[38;5;241m=\u001b[39m \u001b[38;5;241m5\u001b[39m  \u001b[38;5;66;03m# patch\u001b[39;00m\n\u001b[1;32m     35\u001b[0m clusters \u001b[38;5;241m=\u001b[39m fcluster(Z, max_d, criterion\u001b[38;5;241m=\u001b[39m\u001b[38;5;124m'\u001b[39m\u001b[38;5;124mdistance\u001b[39m\u001b[38;5;124m'\u001b[39m)\n",
      "File \u001b[0;32m~/miniconda3/lib/python3.9/site-packages/scipy/cluster/hierarchy.py:1052\u001b[0m, in \u001b[0;36mlinkage\u001b[0;34m(y, method, metric, optimal_ordering)\u001b[0m\n\u001b[1;32m   1048\u001b[0m         \u001b[38;5;28;01mif\u001b[39;00m np\u001b[38;5;241m.\u001b[39mall(y \u001b[38;5;241m>\u001b[39m\u001b[38;5;241m=\u001b[39m \u001b[38;5;241m0\u001b[39m) \u001b[38;5;129;01mand\u001b[39;00m np\u001b[38;5;241m.\u001b[39mallclose(y, y\u001b[38;5;241m.\u001b[39mT):\n\u001b[1;32m   1049\u001b[0m             _warning(\u001b[38;5;124m'\u001b[39m\u001b[38;5;124mThe symmetric non-negative hollow observation \u001b[39m\u001b[38;5;124m'\u001b[39m\n\u001b[1;32m   1050\u001b[0m                      \u001b[38;5;124m'\u001b[39m\u001b[38;5;124mmatrix looks suspiciously like an uncondensed \u001b[39m\u001b[38;5;124m'\u001b[39m\n\u001b[1;32m   1051\u001b[0m                      \u001b[38;5;124m'\u001b[39m\u001b[38;5;124mdistance matrix\u001b[39m\u001b[38;5;124m'\u001b[39m)\n\u001b[0;32m-> 1052\u001b[0m     y \u001b[38;5;241m=\u001b[39m \u001b[43mdistance\u001b[49m\u001b[38;5;241;43m.\u001b[39;49m\u001b[43mpdist\u001b[49m\u001b[43m(\u001b[49m\u001b[43my\u001b[49m\u001b[43m,\u001b[49m\u001b[43m \u001b[49m\u001b[43mmetric\u001b[49m\u001b[43m)\u001b[49m\n\u001b[1;32m   1053\u001b[0m \u001b[38;5;28;01melse\u001b[39;00m:\n\u001b[1;32m   1054\u001b[0m     \u001b[38;5;28;01mraise\u001b[39;00m \u001b[38;5;167;01mValueError\u001b[39;00m(\u001b[38;5;124m\"\u001b[39m\u001b[38;5;124m`y` must be 1 or 2 dimensional.\u001b[39m\u001b[38;5;124m\"\u001b[39m)\n",
      "File \u001b[0;32m~/miniconda3/lib/python3.9/site-packages/scipy/spatial/distance.py:1995\u001b[0m, in \u001b[0;36mpdist\u001b[0;34m(X, metric, *args, **kwargs)\u001b[0m\n\u001b[1;32m   1993\u001b[0m out \u001b[38;5;241m=\u001b[39m kwargs\u001b[38;5;241m.\u001b[39mpop(\u001b[38;5;124m\"\u001b[39m\u001b[38;5;124mout\u001b[39m\u001b[38;5;124m\"\u001b[39m, \u001b[38;5;28;01mNone\u001b[39;00m)\n\u001b[1;32m   1994\u001b[0m \u001b[38;5;28;01mif\u001b[39;00m out \u001b[38;5;129;01mis\u001b[39;00m \u001b[38;5;28;01mNone\u001b[39;00m:\n\u001b[0;32m-> 1995\u001b[0m     dm \u001b[38;5;241m=\u001b[39m \u001b[43mnp\u001b[49m\u001b[38;5;241;43m.\u001b[39;49m\u001b[43mempty\u001b[49m\u001b[43m(\u001b[49m\u001b[43m(\u001b[49m\u001b[43mm\u001b[49m\u001b[43m \u001b[49m\u001b[38;5;241;43m*\u001b[39;49m\u001b[43m \u001b[49m\u001b[43m(\u001b[49m\u001b[43mm\u001b[49m\u001b[43m \u001b[49m\u001b[38;5;241;43m-\u001b[39;49m\u001b[43m \u001b[49m\u001b[38;5;241;43m1\u001b[39;49m\u001b[43m)\u001b[49m\u001b[43m)\u001b[49m\u001b[43m \u001b[49m\u001b[38;5;241;43m/\u001b[39;49m\u001b[38;5;241;43m/\u001b[39;49m\u001b[43m \u001b[49m\u001b[38;5;241;43m2\u001b[39;49m\u001b[43m,\u001b[49m\u001b[43m \u001b[49m\u001b[43mdtype\u001b[49m\u001b[38;5;241;43m=\u001b[39;49m\u001b[43mnp\u001b[49m\u001b[38;5;241;43m.\u001b[39;49m\u001b[43mdouble\u001b[49m\u001b[43m)\u001b[49m\n\u001b[1;32m   1996\u001b[0m \u001b[38;5;28;01melse\u001b[39;00m:\n\u001b[1;32m   1997\u001b[0m     \u001b[38;5;28;01mif\u001b[39;00m out\u001b[38;5;241m.\u001b[39mshape \u001b[38;5;241m!=\u001b[39m (m \u001b[38;5;241m*\u001b[39m (m \u001b[38;5;241m-\u001b[39m \u001b[38;5;241m1\u001b[39m) \u001b[38;5;241m/\u001b[39m\u001b[38;5;241m/\u001b[39m \u001b[38;5;241m2\u001b[39m,):\n",
      "\u001b[0;31mMemoryError\u001b[0m: Unable to allocate 11.1 GiB for an array with shape (1488151290,) and data type float64"
     ]
    }
   ],
   "source": [
    "for i in range(1):\n",
    "    write_stuff_prathith(filename_list[i],id_list[i])"
   ]
  },
  {
   "cell_type": "code",
   "execution_count": 31,
   "metadata": {},
   "outputs": [
    {
     "data": {
      "image/png": "[encoded data removed]",
      "text/plain": [
       "<Figure size 1800x1200 with 1 Axes>"
      ]
     },
     "metadata": {
      "needs_background": "light"
     },
     "output_type": "display_data"
    }
   ],
   "source": [
    "from matplotlib import rcParams\n",
    "\"\"\"\n",
    "Protein - Ligand\n",
    "\n",
    "\"\"\"\n",
    "import os\n",
    "import glob\n",
    "import regex\n",
    "import collections\n",
    "import re\n",
    "import copy\n",
    "import itertools\n",
    "import matplotlib.pyplot as plt\n",
    "from scipy.spatial import distance\n",
    "\n",
    "SMALL_SIZE = 10\n",
    "MEDIUM_SIZE = 13\n",
    "BIGGER_SIZE = 13\n",
    "\n",
    "plt.rc('font', size=SMALL_SIZE)          # controls default text sizes\n",
    "\n",
    "plt.rc('axes', titlesize=SMALL_SIZE)     # fontsize of the axes title\n",
    "plt.rc('axes', labelsize=MEDIUM_SIZE)    # fontsize of the x and y labels\n",
    "plt.rc('xtick', labelsize=SMALL_SIZE)    # fontsize of the tick labels\n",
    "plt.rc('ytick', labelsize=SMALL_SIZE)    # fontsize of the tick labels\n",
    "plt.rc('legend', fontsize=SMALL_SIZE)    # legend fontsize\n",
    "plt.rc('figure', titlesize=BIGGER_SIZE)  # fontsize of the figure title\n",
    "rcParams.update({'figure.autolayout': True})\n",
    "\n",
    "sub_path = Path(r\"/mnt/c/Users/Lenovo/Documents/Projects/ProteinCurvature/robust-surface-curvature/data/\"+input_folder_name)\n",
    "\n",
    "pdb_id = collections.defaultdict(list)\n",
    "dms_id = collections.defaultdict(list)\n",
    "dms_path = os.path.expanduser(sub_path.as_posix()+\"/*.dms\")\n",
    "\n",
    "for files in glob.glob(dms_path):\n",
    "    filename = files\n",
    "    structure_id = regex.search(\n",
    "        r\"(?:.+[/\\\\])(.+)(?:\\.dms)\", filename, flags=regex.I).group(1)\n",
    "    s1 = structure_id\n",
    "    dms_id[structure_id].append(filename)\n",
    "\n",
    "dms_normal = {}\n",
    "for name_dms in dms_id:\n",
    "    with open(dms_id[name_dms][0], 'r') as f:\n",
    "        k = f.read()\n",
    "    pattern = re.compile(r\"(.{20,})(?:\\bA\\b)\", flags=re.M | re.I)\n",
    "    pattern2 = re.compile(r\"(.{20,})(?:\\bS\\w+\\b)(.+)\", flags=re.M)\n",
    "    l1 = pattern.findall(k)\n",
    "    l2 = pattern2.findall(k)\n",
    "    iterables1 = {}\n",
    "    iterables_orig = {}\n",
    "    iterables_normal_area = {}\n",
    "    for x, y in l2:\n",
    "        search = regex.search(\n",
    "            r\"(\\w{,3})\\s*(\\w+)(?:\\*?)\\s*(\\w+)(?:\\*|'?)\\s*(-?\\d+\\.\\d+)\\s*(-?\\d+\\.\\d+)\\s*(-?\\d+\\.\\d+)\", x)\n",
    "        iterables1[tuple(map(float, [search.group(4), search.group(\n",
    "            5), search.group(6)]))] = list(map(float, y.split()[1:]))\n",
    "    dms_normal[name_dms] = copy.deepcopy(iterables1)\n",
    "\n",
    "for files in glob.glob((path/OUTPUT).as_posix()+\"/*.pdb\"):\n",
    "    filename = files\n",
    "    structure_id = regex.search(\n",
    "        r\"(?:.+/)(.{4})(?:.*_X\\.pdb)\", filename).group(1)\n",
    "    pdb_id[structure_id].append(filename)\n",
    "\n",
    "\n",
    "for name_pdb in pdb_id:\n",
    "    for i in itertools.combinations(pdb_id[name_pdb], 2):\n",
    "        with open(i[0], 'r') as f:\n",
    "            k = f.readlines()\n",
    "        iterables = {}\n",
    "        arr1 = []\n",
    "        arr1_norm = []\n",
    "        if(regex.search(r\"_lig_X\", i[0])):\n",
    "            suffix = \"_lig\"\n",
    "        else:\n",
    "            suffix = \"\"\n",
    "        for x in k:\n",
    "            iterables.setdefault(x[60:66].replace(\" \", \"\"), []).append(list\n",
    "                                                                       (map(float, [x[30:38].replace(\" \", \"\"),\n",
    "                                                                                    x[38:46].replace(\n",
    "                                                                                        \" \", \"\"),\n",
    "                                                                                    x[46:54].replace(\" \", \"\")])))\n",
    "            arr1.append(list(map(float, [x[30:38].replace(\" \", \"\"),\n",
    "                                         x[38:46].replace(\" \", \"\"),\n",
    "                                         x[46:54].replace(\" \", \"\"), x[60:66].replace(\" \", \"\")])))\n",
    "            arr1_norm.append(dms_normal[name_pdb+suffix][tuple(map(float, [x[30:38].replace(\" \", \"\"),\n",
    "                                                                           x[38:46].replace(\n",
    "                                                                               \" \", \"\"),\n",
    "                                                                           x[46:54].replace(\" \", \"\")]))])\n",
    "        with open(i[1], 'r') as f:\n",
    "            k1 = f.readlines()\n",
    "\n",
    "        iterables1 = {}\n",
    "        arr2 = []\n",
    "        arr2_norm = []\n",
    "        if(regex.search(r\"_lig_X\", i[1])):\n",
    "            suffix = \"_lig\"\n",
    "        else:\n",
    "            suffix = \"\"\n",
    "        for x in k1:\n",
    "            iterables1.setdefault(x[60:66].replace(\" \", \"\"), []).append(list\n",
    "                                                                        (map(float, [x[30:38].replace(\" \", \"\"),\n",
    "                                                                                     x[38:46].replace(\n",
    "                                                                                         \" \", \"\"),\n",
    "                                                                                     x[46:54].replace(\" \", \"\")])))\n",
    "            arr2.append(list(map(float, [x[30:38].replace(\" \", \"\"),\n",
    "                                         x[38:46].replace(\" \", \"\"),\n",
    "                                         x[46:54].replace(\" \", \"\"), x[60:66].replace(\" \", \"\")])))\n",
    "            arr2_norm.append(dms_normal[name_pdb+suffix][tuple(map(float, [x[30:38].replace(\" \", \"\"),\n",
    "                                                                           x[38:46].replace(\n",
    "                                                                               \" \", \"\"),\n",
    "                                                                           x[46:54].replace(\" \", \"\")]))])\n",
    "        arr1 = np.array(arr1)\n",
    "        arr2 = np.array(arr2)\n",
    "        arr1_norm = np.array(arr1_norm)\n",
    "        arr2_norm = np.array(arr2_norm)\n",
    "        normal_product = np.dot(arr2_norm, arr1_norm.T)\n",
    "\n",
    "        arr_dist = distance.cdist(\n",
    "            arr2[:, (0, 1, 2)], arr1[:, (0, 1, 2)], 'euclidean')\n",
    "\n",
    "        new_dist = np.exp(-1*(arr_dist-np.mean(arr_dist, axis=0))\n",
    "                          ** 2/(2*np.var(arr_dist, axis=0)))\n",
    "\n",
    "        new_curv = distance.cdist(arr2[:, (3,)], -1*arr1[:, (3,)], 'cityblock')\n",
    "        dat_new = (np.multiply(new_curv, new_dist)).flatten()\n",
    "        plt.figure(dpi=300)\n",
    "\n",
    "        plt.xlabel(\"shape complementarity\")\n",
    "        plt.ylabel(\"Number density\")\n",
    "        plt.hist(dat_new, bins=20, density=True, color='gray', alpha=0.8)\n",
    "        plt.title(\"%s_%s\" % (name_pdb, \"_lig\"))\n",
    "        plt.show()\n",
    "        plt.savefig(path.as_posix()+\"/%s_%s_plot.jpeg\" %\n",
    "                    (name_pdb, \"_lig\"), format='jpeg', \n",
    "                    dpi=300)\n",
    "        plt.close()"
   ]
  },
  {
   "cell_type": "code",
   "execution_count": 22,
   "metadata": {},
   "outputs": [
    {
     "name": "stdout",
     "output_type": "stream",
     "text": [
      "defaultdict(<class 'list'>, {'2hnp': ['/mnt/c/Users/Lenovo/Documents/Projects/ProteinCurvature/robust-surface-curvature/data/Protein_inhibitor/2hnp.dms'], '2hnp_lig': ['/mnt/c/Users/Lenovo/Documents/Projects/ProteinCurvature/robust-surface-curvature/data/Protein_inhibitor/2hnp_lig.dms']})\n"
     ]
    }
   ],
   "source": [
    "print(dms_id)\n"
   ]
  },
  {
   "cell_type": "code",
   "execution_count": null,
   "metadata": {},
   "outputs": [],
   "source": [
    "%%bash\n",
    "cd data/output_protein-ligand-new/\n",
    "ls"
   ]
  },
  {
   "cell_type": "code",
   "execution_count": null,
   "metadata": {},
   "outputs": [],
   "source": []
  }
 ],
 "metadata": {
  "kernelspec": {
   "display_name": "Python 3",
   "language": "python",
   "name": "python3"
  },
  "language_info": {
   "codemirror_mode": {
    "name": "ipython",
    "version": 3
   },
   "file_extension": ".py",
   "mimetype": "text/x-python",
   "name": "python",
   "nbconvert_exporter": "python",
   "pygments_lexer": "ipython3",
   "version": "3.9.12"
  }
 },
 "nbformat": 4,
 "nbformat_minor": 4
}
